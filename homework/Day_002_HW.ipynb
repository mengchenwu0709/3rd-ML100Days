{
 "cells": [
  {
   "cell_type": "markdown",
   "metadata": {},
   "source": [
    "## [作業目標]\n",
    "了解機器學習適合應用的領域與範疇。"
   ]
  },
  {
   "cell_type": "markdown",
   "metadata": {},
   "source": [
    "## [作業重點]\n",
    "透過瞭解機器學習的運作方式，找出非常適用機器學習應用的領域及其原因"
   ]
  },
  {
   "cell_type": "markdown",
   "metadata": {},
   "source": [
    "## 作業\n",
    "請找出一個你認為機器學習可以發光發熱的領域並闡述原因? "
   ]
  },
  {
   "cell_type": "markdown",
   "metadata": {},
   "source": [
    "我認為機器學習可以在詐騙偵測上面有所作為，因為現今社會進步之下，詐騙的手法也不斷推陳出新，165反詐騙專線並沒有辦法有效的防止詐騙，雖然現今的機器學習仍然在語言方面的發展有所欠缺，但是對於詐騙這種模式有跡可循的語言偵測應該是能夠做到的，可以通過相關的特定字彙、詐騙模式，例如保險、健保、醫藥、車禍等常見的詐騙手段，從詐騙偵測的監督式學習，而且語言偵測也符合機器學習適合用於重複性高的事情的優點，當資料夠多的前提下，甚至能夠用來推斷出日後詐騙手法更新的方向，能夠預先防止詐騙受害，我認為科技的進步，不只是為了方便而已，更是要在能夠保護人的前提下進行才是最好的。"
   ]
  }
 ],
 "metadata": {
  "kernelspec": {
   "display_name": "Python 3",
   "language": "python",
   "name": "python3"
  },
  "language_info": {
   "codemirror_mode": {
    "name": "ipython",
    "version": 3
   },
   "file_extension": ".py",
   "mimetype": "text/x-python",
   "name": "python",
   "nbconvert_exporter": "python",
   "pygments_lexer": "ipython3",
   "version": "3.6.5"
  }
 },
 "nbformat": 4,
 "nbformat_minor": 2
}
